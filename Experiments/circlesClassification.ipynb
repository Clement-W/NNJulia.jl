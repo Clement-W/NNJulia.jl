{
 "cells": [
  {
   "cell_type": "markdown",
   "metadata": {},
   "source": [
    "Create Dataset"
   ]
  },
  {
   "cell_type": "code",
   "execution_count": 1,
   "metadata": {},
   "outputs": [],
   "source": [
    "using MLJBase\n",
    "using Plots\n",
    "\n",
    "include(\"../src/NNJulia.jl\")\n",
    "using .NNJulia"
   ]
  },
  {
   "cell_type": "code",
   "execution_count": 2,
   "metadata": {},
   "outputs": [
    {
     "data": {
      "text/plain": [
       "100-element view(::Matrix{Float64}, :, 2) with eltype Float64:\n",
       "  0.1403782306204806\n",
       " -0.4046397194016951\n",
       " -0.5504295391567791\n",
       " -1.1557064286695415\n",
       "  0.05072251033274816\n",
       " -0.30907140273105616\n",
       "  0.09379494387061693\n",
       "  0.6853659376648708\n",
       " -0.9785306262209139\n",
       " -0.3271279848601614\n",
       "  ⋮\n",
       " -1.1056022205603668\n",
       " -1.2084644894380687\n",
       " -1.5063898193467826\n",
       "  0.6985738843748976\n",
       " -0.07613099317461454\n",
       " -1.246485972282541\n",
       "  1.1437663622834058\n",
       "  1.161469313155142\n",
       "  0.010177442926617042"
      ]
     },
     "metadata": {},
     "output_type": "display_data"
    }
   ],
   "source": [
    "x,y = make_circles(100,noise=0.5,factor=0.3)    \n",
    "#scatter([x[1],x[2]],y)\n",
    "x[2]"
   ]
  }
 ],
 "metadata": {
  "kernelspec": {
   "display_name": "Julia 1.7.1",
   "language": "julia",
   "name": "julia-1.7"
  },
  "language_info": {
   "file_extension": ".jl",
   "mimetype": "application/julia",
   "name": "julia",
   "version": "1.7.1"
  },
  "orig_nbformat": 4
 },
 "nbformat": 4,
 "nbformat_minor": 2
}
