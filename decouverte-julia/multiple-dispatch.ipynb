{
 "cells": [
  {
   "cell_type": "markdown",
   "metadata": {},
   "source": [
    "### Type-Dispatch Design: Post Object-Oriented Programming for Julia\n",
    "\n",
    "http://www.stochasticlifestyle.com/type-dispatch-design-post-object-oriented-programming-julia/\n",
    "\n",
    "Le multiple dispatch est un concept simple : Les fonctions peuvent avoir plusieurs définitions tant que chaque définition accepte une combinaison différente d'arguments.\n",
    "\n",
    "C'est quand une fonction a un comportement différent en fonction du type de ses arguments.\n",
    "\n",
    "Une fonction dans Julia est essentiellement juste un nom. Associé à ce nom, il y a un certain nombre de méthodes, une pour chaque combinaison possible d'arguments. Ainsi, quand vous appelez une fonction dans Julia, elle cherchera dans une table de méthodes. Ces méthodes sont triées en fonction de la spécificité des types d'arguments. Par conséquent, elle essaiera d'abord de faire correspondre la signature de l'appel avec les types les plus spécifiques possibles. S'il ne trouve pas cela, il commencera à chercher des types légèrement plus abstraits plus bas dans la liste.\n"
   ]
  },
  {
   "cell_type": "code",
   "execution_count": 1,
   "metadata": {},
   "outputs": [
    {
     "data": {
      "text/plain": [
       "sort (generic function with 3 methods)"
      ]
     },
     "metadata": {},
     "output_type": "display_data"
    }
   ],
   "source": [
    "function sort(x::Array{String, 1}) # x is required to be a 1 dimensional array of strings.  \n",
    "end\n",
    "function sort(x::Array{Int, 1})\n",
    "end\n",
    "function sort(x::Array{Bool, 1})\n",
    "end"
   ]
  },
  {
   "cell_type": "markdown",
   "metadata": {},
   "source": [
    "La possibilité d'avoir plusieurs méthodes de même nom agissant différemment en fonction des paramètres permet d'éviter d'avoir à faire des if qui traitenet différemment en fonction du type de l'argument.\n",
    "\n",
    "Imaginons que l'on veuille créer une fonction f qui square l'inputet calcule sa valeur modulo 4 et que la rapidité importe beaucoup. On impose aussi que f doit retourner un integer mais son input peut être un string, float ou int, et on ne connait pas le type de x sauf à l'exécution.\n",
    "\n",
    "En python on ferait :\n",
    "```py\n",
    "def f_py(x):\n",
    "    if type(x) == string:\n",
    "        x = float(x)\n",
    "    if type(x) == float:\n",
    "        x = ceil(x)\n",
    "    return x**2 % 4\n",
    "```\n",
    "\n",
    "En Julia on peut faire :\n"
   ]
  },
  {
   "cell_type": "code",
   "execution_count": 2,
   "metadata": {},
   "outputs": [
    {
     "data": {
      "text/plain": [
       "f (generic function with 3 methods)"
      ]
     },
     "metadata": {},
     "output_type": "display_data"
    }
   ],
   "source": [
    "f(x::Int64) = x^2 %4\n",
    "f(x::Float64) = f(ceil(Int64,x))\n",
    "f(x::String) = f(parse(Float64,x))  "
   ]
  },
  {
   "cell_type": "markdown",
   "metadata": {},
   "source": [
    "Autre exemple, pour faire une fonction qui compte le nombre de ligne dans un fichier peu importe l'entrée (un fichier, plusieurs fichiers, des ou un fichier avec un filtre sur les extensions) on peut aussi faire ça simplement en Julia grâce aux multiple dispatch. On peut ajouter plusieurs fonctionnalités très rapidement sans modifier le code initial :"
   ]
  },
  {
   "cell_type": "code",
   "execution_count": 3,
   "metadata": {},
   "outputs": [
    {
     "data": {
      "text/plain": [
       "countlines (generic function with 4 methods)"
      ]
     },
     "metadata": {},
     "output_type": "display_data"
    }
   ],
   "source": [
    "# compte les lignes sur un fichier\n",
    "function countlines(fname::String)\n",
    "    fstream = open(fname)\n",
    "    num_lines = length(readlines(fstream))\n",
    "    close(fstream)\n",
    "    return num_lines\n",
    "end\n",
    "# compte les lignes de plusieurs fichiers\n",
    "function countlines(files::Array{String, 1})\n",
    "    return sum(map(countlines, files)) # map applique la fonction countlines à tous les fichiers dans files\n",
    "end\n",
    "# compte les lignes de plusieurs fichiers qui ont une certaine extension\n",
    "function countlines(files::Array{String, 1}, ext::String)\n",
    "    filtered = filter(x->endswith(x, ext), files) # filter va enlever tous les files qui respectent pas la condition\n",
    "    return countlines(filtered) \n",
    "end\n",
    "# compte lesl ignes d'un fichier avec une certaine extension\n",
    "function countlines(file::String, ext::String)\n",
    "    return endswith(file, ext) ? countlines(file) : 0\n",
    "end"
   ]
  },
  {
   "cell_type": "markdown",
   "metadata": {},
   "source": [
    "#### Exemple avec des températures "
   ]
  },
  {
   "cell_type": "code",
   "execution_count": 4,
   "metadata": {},
   "outputs": [],
   "source": [
    "#import Base: +, -, promote_rule, convert, show\n",
    "import Base: +,- # pour permettre de redéfinir la fonction + sans \"shadower\" la méthode + initiale\n",
    "import Base: promote_rule, convert # pour permettre d'ajouter ces nouvelles definitions aux définitions initiales de ces méthodes sans les écraser"
   ]
  },
  {
   "cell_type": "markdown",
   "metadata": {},
   "source": [
    "Déjà on définit les types :"
   ]
  },
  {
   "cell_type": "code",
   "execution_count": 5,
   "metadata": {},
   "outputs": [],
   "source": [
    "abstract type Temperature end\n",
    "\n",
    "struct Celsius <: Temperature\n",
    "    value::Float64\n",
    "end\n",
    "struct Kelvin <: Temperature\n",
    "    value::Float64\n",
    "end\n",
    "struct Fahrenheit <: Temperature\n",
    "    value::Float64\n",
    "end"
   ]
  },
  {
   "cell_type": "markdown",
   "metadata": {},
   "source": [
    "Ensuite, nous utilisons la fonction promote_rule() pour enregistrer le type vers lequel deux types doivent être promus lorsqu'ils sont impliqués dans une expression arithmétique. Par exemple si on fait 1+1.5, une promote_rule va permettre de changer le type d'une variable pour être capable de faire l'opération. Ici, 1 serait converti en float pour avoir 1.0 "
   ]
  },
  {
   "cell_type": "code",
   "execution_count": 6,
   "metadata": {},
   "outputs": [
    {
     "data": {
      "text/plain": [
       "promote_rule (generic function with 127 methods)"
      ]
     },
     "metadata": {},
     "output_type": "display_data"
    }
   ],
   "source": [
    "promote_rule(::Type{Kelvin}, ::Type{Celsius}) = Kelvin\n",
    "# Type{Kelvin} prend le Type du type Kelvin\n",
    "promote_rule(::Type{Fahrenheit}, ::Type{Celsius}) = Celsius\n",
    "promote_rule(::Type{Fahrenheit}, ::Type{Kelvin}) = Kelvin"
   ]
  },
  {
   "cell_type": "markdown",
   "metadata": {},
   "source": [
    "Définissons ensuite les moyens de conversion entre chaque température :"
   ]
  },
  {
   "cell_type": "code",
   "execution_count": 7,
   "metadata": {},
   "outputs": [
    {
     "data": {
      "text/plain": [
       "convert (generic function with 197 methods)"
      ]
     },
     "metadata": {},
     "output_type": "display_data"
    }
   ],
   "source": [
    "convert(::Type{Kelvin},  t::Celsius)     = Kelvin(t.value + 273.15)\n",
    "convert(::Type{Kelvin},  t::Fahrenheit)  = Kelvin(Celsius(t))\n",
    "convert(::Type{Celsius}, t::Kelvin)      = Celsius(t.value - 273.15)\n",
    "convert(::Type{Celsius}, t::Fahrenheit)  = Celsius((t.value - 32)*5/9)\n",
    "convert(::Type{Fahrenheit}, t::Celsius)  = Fahrenheit(t.value*9/5 + 32)\n",
    "convert(::Type{Fahrenheit}, t::Kelvin)   = Fahrenheit(Celsius(t))"
   ]
  },
  {
   "cell_type": "markdown",
   "metadata": {},
   "source": [
    "Redéfinissons également les constructeurs des différentes températures pour pouvoir accepter d'autre types de températures"
   ]
  },
  {
   "cell_type": "code",
   "execution_count": 12,
   "metadata": {},
   "outputs": [
    {
     "data": {
      "text/plain": [
       "Fahrenheit"
      ]
     },
     "metadata": {},
     "output_type": "display_data"
    }
   ],
   "source": [
    "Kelvin(c::Celsius) = convert(Kelvin,c)\n",
    "Kelvin(f::Fahrenheit) = convert(Kelvin,f)\n",
    "Celsius(k::Kelvin) = convert(Celsius,k)\n",
    "Celsius(f::Fahrenheit) = convert(Celsius,f)\n",
    "\n",
    "# on a besoin de ces constructeurs car dans convert on fait Fahrenheit(Celsius(t)) par exemple\n",
    "Fahrenheit(c::Celsius) = convert(Fahrenheit,c)\n",
    "Fahrenheit(k::Kelvin) = convert(Fahrenheit,k)"
   ]
  },
  {
   "cell_type": "markdown",
   "metadata": {},
   "source": [
    "Redéfinition des opérations arithmétiques :"
   ]
  },
  {
   "cell_type": "code",
   "execution_count": 9,
   "metadata": {},
   "outputs": [
    {
     "data": {
      "text/plain": [
       "- (generic function with 215 methods)"
      ]
     },
     "metadata": {},
     "output_type": "display_data"
    }
   ],
   "source": [
    "# pour les opérations de même type :\n",
    "\n",
    "+(x::T, y::T) where {T<:Temperature} = T(x.value + y.value)\n",
    "-(x::T, y::T) where {T<:Temperature}= T(x.value - y.value)\n"
   ]
  },
  {
   "cell_type": "markdown",
   "metadata": {},
   "source": [
    "Pour traiter la combinaison de températures de types différents, nous utilisons le système de promotion de Julia, qui s'appuie sur convert() et promote_rule(). La bibliothèque standard de Julia a une fonction promote(x,y) qui rendra x et y dans le même type selon les règles de promotion. Ainsi nous définissons l'addition et la soustraction entre deux températures abstraites :"
   ]
  },
  {
   "cell_type": "code",
   "execution_count": 10,
   "metadata": {},
   "outputs": [
    {
     "data": {
      "text/plain": [
       "- (generic function with 216 methods)"
      ]
     },
     "metadata": {},
     "output_type": "display_data"
    }
   ],
   "source": [
    "+(x::Temperature, y::Temperature) = +(promote(x,y)...)\n",
    "-(x::Temperature, y::Temperature) = -(promote(x,y)...)"
   ]
  },
  {
   "cell_type": "markdown",
   "metadata": {},
   "source": [
    "Demo :"
   ]
  },
  {
   "cell_type": "code",
   "execution_count": 15,
   "metadata": {},
   "outputs": [
    {
     "data": {
      "text/plain": [
       "Kelvin(260.0388888888889)"
      ]
     },
     "metadata": {},
     "output_type": "display_data"
    }
   ],
   "source": [
    "Celsius(1) + Celsius(3)\n",
    "Fahrenheit(3) + Celsius(4) + Kelvin(4)\n",
    "Fahrenheit(3) + Kelvin(3)"
   ]
  }
 ],
 "metadata": {
  "interpreter": {
   "hash": "916dbcbb3f70747c44a77c7bcd40155683ae19c65e1c03b4aa3499c5328201f1"
  },
  "kernelspec": {
   "display_name": "Julia 1.7.1",
   "language": "julia",
   "name": "julia-1.7"
  },
  "language_info": {
   "file_extension": ".jl",
   "mimetype": "application/julia",
   "name": "julia",
   "version": "1.7.1"
  },
  "orig_nbformat": 4
 },
 "nbformat": 4,
 "nbformat_minor": 2
}
