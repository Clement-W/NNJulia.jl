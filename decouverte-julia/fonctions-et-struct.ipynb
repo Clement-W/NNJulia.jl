{
 "cells": [
  {
   "cell_type": "markdown",
   "metadata": {},
   "source": [
    "https://github.com/ninjaaron/oo-and-polymorphism-in-julia/"
   ]
  },
  {
   "cell_type": "code",
   "execution_count": 56,
   "metadata": {},
   "outputs": [
    {
     "name": "stdout",
     "output_type": "stream",
     "text": [
      "f(3, 5) = 15\n",
      "g(3, 5) = 15\n"
     ]
    },
    {
     "data": {
      "text/plain": [
       "15"
      ]
     },
     "metadata": {},
     "output_type": "display_data"
    }
   ],
   "source": [
    "function f(a,b)\n",
    "    return a*b\n",
    "end\n",
    "\n",
    "@show f(3,5)\n",
    "\n",
    "# equivalent à \n",
    "g(x,y) = x * y\n",
    "\n",
    "@show g(3,5)"
   ]
  },
  {
   "cell_type": "code",
   "execution_count": 57,
   "metadata": {},
   "outputs": [
    {
     "data": {
      "text/plain": [
       "55"
      ]
     },
     "metadata": {},
     "output_type": "display_data"
    }
   ],
   "source": [
    "# fonction permettant de calculer la suite de fibonacci :\n",
    "fib(n::Integer) = n<=2 ? one(n) : fib(n-1) + fib(n-2)\n",
    "# one(n) créé un tableau de 1 de la même dimension que n, donc avec un simple int en entrée ce sera tjrs 1\n",
    "fib(10)"
   ]
  },
  {
   "cell_type": "code",
   "execution_count": 58,
   "metadata": {},
   "outputs": [
    {
     "data": {
      "text/plain": [
       "Point(4.0, 9)"
      ]
     },
     "metadata": {},
     "output_type": "display_data"
    }
   ],
   "source": [
    "struct Point\n",
    "    x::Float64\n",
    "    y # pas obligé de préciser le type mais c'est mieux car plus performant pour le compilateur\n",
    "end\n",
    "\n",
    "p = Point(4,9)"
   ]
  },
  {
   "cell_type": "markdown",
   "metadata": {},
   "source": [
    "Les structures sont pas modifiables (immutable), on peut pas faire p.x = 3"
   ]
  },
  {
   "cell_type": "code",
   "execution_count": 59,
   "metadata": {},
   "outputs": [],
   "source": [
    "# structure mutable\n",
    "mutable struct Position\n",
    "    name::String\n",
    "    coord::Point\n",
    "end"
   ]
  },
  {
   "cell_type": "code",
   "execution_count": 60,
   "metadata": {},
   "outputs": [
    {
     "data": {
      "text/plain": [
       "Point(1.0, 1)"
      ]
     },
     "metadata": {},
     "output_type": "display_data"
    }
   ],
   "source": [
    "pos = Position(\"Position1\",Point(3,4))\n",
    "pos.coord = Point(1,1)\n"
   ]
  },
  {
   "cell_type": "markdown",
   "metadata": {},
   "source": [
    "Définition d'un constructeur altérnatif pour faciliter la création :"
   ]
  },
  {
   "cell_type": "code",
   "execution_count": 72,
   "metadata": {},
   "outputs": [
    {
     "data": {
      "text/plain": [
       "Position(\"Poss22\", Point(2.0, 5))"
      ]
     },
     "metadata": {},
     "output_type": "display_data"
    }
   ],
   "source": [
    "Position(name,x,y) = Position(name,Point(x,y))\n",
    "pos2 = Position(\"Position2\",5,9)\n",
    "pos22 = Position(\"Poss22\",2,5)\n",
    "# les deux constructeurs sont encore utilisables"
   ]
  },
  {
   "cell_type": "markdown",
   "metadata": {},
   "source": [
    "On peut aussi définir un constructeur à l'intérieur de la structure mais il faut utiliser le mot clé new pour dire que ça remplace le constructeur initial Position(name::string,coord::Point)"
   ]
  },
  {
   "cell_type": "code",
   "execution_count": 62,
   "metadata": {},
   "outputs": [
    {
     "data": {
      "text/plain": [
       "Position2(\"pos2\", Point(2.0, 3))"
      ]
     },
     "metadata": {},
     "output_type": "display_data"
    }
   ],
   "source": [
    "mutable struct Position2\n",
    "    name::String\n",
    "    coord::Point\n",
    "    Position2(name, x, y) = new(name, Point(x, y))\n",
    "end\n",
    "\n",
    "p2 = Position2(\"pos2\", 2, 3)\n",
    "\n",
    "# ne marche plus :\n",
    "# p3 = Position2(\"pos3\",Point(3,5))"
   ]
  },
  {
   "cell_type": "code",
   "execution_count": 63,
   "metadata": {},
   "outputs": [
    {
     "name": "stdout",
     "output_type": "stream",
     "text": [
      "Point2(2.0, 4.0)\n"
     ]
    }
   ],
   "source": [
    "mutable struct Point2\n",
    "    x::Float64\n",
    "    y::Float64\n",
    "end\n",
    "\n",
    "function translate!(p2::Point2,tx::Float64,ty::Float64)\n",
    "    #p2.x += tx\n",
    "    #p2.y += ty\n",
    "  \n",
    "end\n",
    "\n",
    "point2 = Point2(2,4)\n",
    "translate!(point2,1.0,1.0) # il faut bien mettre des float\n",
    "println(point2)\n"
   ]
  },
  {
   "cell_type": "markdown",
   "metadata": {},
   "source": [
    "## Autre exemple\n",
    "\n",
    "Cet exemple montre comment on peut avoir plusieurs méthodes avec des signatures différentes "
   ]
  },
  {
   "cell_type": "code",
   "execution_count": 64,
   "metadata": {},
   "outputs": [
    {
     "data": {
      "text/plain": [
       "height (generic function with 1 method)"
      ]
     },
     "metadata": {},
     "output_type": "display_data"
    }
   ],
   "source": [
    "struct Rectangle\n",
    "    w::Float64\n",
    "    h::Float64\n",
    "end\n",
    "\n",
    "# méthodes pour retourner w et h :\n",
    "width(r::Rectangle) = r.w\n",
    "height(r::Rectangle) = r.h"
   ]
  },
  {
   "cell_type": "code",
   "execution_count": 69,
   "metadata": {},
   "outputs": [
    {
     "data": {
      "text/plain": [
       "height (generic function with 2 methods)"
      ]
     },
     "metadata": {},
     "output_type": "display_data"
    }
   ],
   "source": [
    "struct Square\n",
    "    length::Float64\n",
    "end\n",
    "\n",
    "width(s::Square) = s.length\n",
    "height(s::Square) = s.length"
   ]
  },
  {
   "cell_type": "code",
   "execution_count": 66,
   "metadata": {},
   "outputs": [
    {
     "data": {
      "text/plain": [
       "area (generic function with 1 method)"
      ]
     },
     "metadata": {},
     "output_type": "display_data"
    }
   ],
   "source": [
    "# Méthode qui fait appel à width et height pour l'aire :\n",
    "area(shape) = width(shape) * height(shape)"
   ]
  },
  {
   "cell_type": "code",
   "execution_count": 70,
   "metadata": {},
   "outputs": [
    {
     "name": "stdout",
     "output_type": "stream",
     "text": [
      "area(r) = 12.0\n",
      "area(s) = 4.0\n"
     ]
    },
    {
     "data": {
      "text/plain": [
       "4.0"
      ]
     },
     "metadata": {},
     "output_type": "display_data"
    }
   ],
   "source": [
    "# exemple :\n",
    "r = Rectangle(3,4)\n",
    "s = Square(2)\n",
    "@show area(r)\n",
    "@show area(s)"
   ]
  }
 ],
 "metadata": {
  "kernelspec": {
   "display_name": "Julia 1.7.1",
   "language": "julia",
   "name": "julia-1.7"
  },
  "language_info": {
   "file_extension": ".jl",
   "mimetype": "application/julia",
   "name": "julia",
   "version": "1.7.1"
  },
  "orig_nbformat": 4
 },
 "nbformat": 4,
 "nbformat_minor": 2
}
