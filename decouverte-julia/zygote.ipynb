{
 "cells": [
  {
   "cell_type": "code",
   "execution_count": 3,
   "metadata": {},
   "outputs": [],
   "source": [
    "using Zygote\n",
    "using Plots"
   ]
  },
  {
   "cell_type": "markdown",
   "metadata": {},
   "source": [
    "Fonctionnement basique de Zygote"
   ]
  },
  {
   "cell_type": "code",
   "execution_count": 94,
   "metadata": {},
   "outputs": [
    {
     "data": {
      "text/plain": [
       "(8.0,)"
      ]
     },
     "metadata": {},
     "output_type": "display_data"
    }
   ],
   "source": [
    "w = rand(2,3)\n",
    "b = rand(2)\n",
    "x = rand(3)\n",
    "\n",
    "linear(x) = w*x .+ b\n",
    "\n",
    "loss() = sum(linear(x))\n",
    "\n",
    "grads = gradient(loss, Params([w, b]))\n",
    "\n",
    "grads[w],grads[b]\n",
    "\n",
    "\n",
    "f(x) = 3x.^2 .+ 2x .+ 5\n",
    "gradient(f,1)"
   ]
  },
  {
   "cell_type": "markdown",
   "metadata": {},
   "source": [
    "Pullbacks"
   ]
  },
  {
   "cell_type": "code",
   "execution_count": 91,
   "metadata": {},
   "outputs": [
    {
     "name": "stdout",
     "output_type": "stream",
     "text": [
      "10\n"
     ]
    },
    {
     "data": {
      "text/plain": [
       "(8.0,)"
      ]
     },
     "metadata": {},
     "output_type": "display_data"
    }
   ],
   "source": [
    "y,backf = pullback(f,1)\n",
    "println(y)\n",
    "\n",
    "backf(1)"
   ]
  },
  {
   "cell_type": "markdown",
   "metadata": {},
   "source": [
    "Pullback retourne deux choses :\n",
    "* le résultat de la fonction f(1)\n",
    "* et un pullback ici appelé back, qui contient le calcul de gradient pour f, acceptant un incoming gradient, et en produit un nouveau. Mathématiquement c'est le vector-Jacobian product.\n",
    "\n",
    "La fonction gradient utilise en réalité pullback, prend une fonction f et assume que l'incoming gradient est égal à 1, donc retourne juste la dérivée de la fonction donnée en entrée.\n",
    "\n",
    "\n",
    "Si on des vecteurs en entrée, on calcule en fait la jacobienne "
   ]
  },
  {
   "cell_type": "code",
   "execution_count": 104,
   "metadata": {},
   "outputs": [
    {
     "name": "stdout",
     "output_type": "stream",
     "text": [
      "[6, 27, 84]\n",
      "([9.0, 72.0, 243.0],)\n"
     ]
    }
   ],
   "source": [
    "g(x) = 3x.^3 .+ 3\n",
    "y,back = pullback(g,[1,2,3])\n",
    "\n",
    "println(y)\n",
    "println(back([1,2,3]))"
   ]
  }
 ],
 "metadata": {
  "kernelspec": {
   "display_name": "Julia 1.7.1",
   "language": "julia",
   "name": "julia-1.7"
  },
  "language_info": {
   "file_extension": ".jl",
   "mimetype": "application/julia",
   "name": "julia",
   "version": "1.7.1"
  },
  "orig_nbformat": 4
 },
 "nbformat": 4,
 "nbformat_minor": 2
}
