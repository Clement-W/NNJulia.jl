{
 "cells": [
  {
   "cell_type": "markdown",
   "metadata": {},
   "source": [
    "# Polymorphisme\n",
    "(se base sur https://github.com/ninjaaron/oo-and-polymorphism-in-julia/)"
   ]
  },
  {
   "cell_type": "markdown",
   "metadata": {},
   "source": [
    "### Héritage avec des types abstraits"
   ]
  },
  {
   "cell_type": "markdown",
   "metadata": {},
   "source": [
    "Crééons un type abstrait qui part du principe que les types héritant de shape doivent proposer une méthode area. Cependant, on ne peut pas forcer le sous-types à avoir la méthode area, il faut donc bien documenter le code"
   ]
  },
  {
   "cell_type": "code",
   "execution_count": 5,
   "metadata": {},
   "outputs": [
    {
     "data": {
      "text/plain": [
       "combined_area (generic function with 1 method)"
      ]
     },
     "metadata": {},
     "output_type": "display_data"
    }
   ],
   "source": [
    "abstract type Shape end\n",
    "combined_area(a::Shape,b::Shape) = area(a) + area(b)"
   ]
  },
  {
   "cell_type": "markdown",
   "metadata": {},
   "source": [
    "Structure héritant de Shape :"
   ]
  },
  {
   "cell_type": "code",
   "execution_count": 3,
   "metadata": {},
   "outputs": [
    {
     "data": {
      "text/plain": [
       "area (generic function with 1 method)"
      ]
     },
     "metadata": {},
     "output_type": "display_data"
    }
   ],
   "source": [
    "struct Circle <: Shape\n",
    "    diameter::Float64\n",
    "end\n",
    "radius(c::Circle) = c.diameter/2\n",
    "area(c::Circle) = pi*radius(c)^2"
   ]
  },
  {
   "cell_type": "markdown",
   "metadata": {},
   "source": [
    "Ajoutons un type qui hérite du type Shape"
   ]
  },
  {
   "cell_type": "code",
   "execution_count": 4,
   "metadata": {},
   "outputs": [
    {
     "data": {
      "text/plain": [
       "area (generic function with 2 methods)"
      ]
     },
     "metadata": {},
     "output_type": "display_data"
    }
   ],
   "source": [
    "abstract type AbstractRectangle <: Shape end\n",
    "area(r::AbstractRectangle) = width(r) * height(r)"
   ]
  },
  {
   "cell_type": "markdown",
   "metadata": {},
   "source": [
    "Structure Rectangle héritant de AbstractRectangle :"
   ]
  },
  {
   "cell_type": "code",
   "execution_count": 12,
   "metadata": {},
   "outputs": [
    {
     "data": {
      "text/plain": [
       "height (generic function with 2 methods)"
      ]
     },
     "metadata": {},
     "output_type": "display_data"
    }
   ],
   "source": [
    "struct Rectangle <: AbstractRectangle\n",
    "    w::Float64\n",
    "    h::Float64\n",
    "end\n",
    "\n",
    "width(r::Rectangle) = r.w\n",
    "height(r::Rectangle) = r.h"
   ]
  },
  {
   "cell_type": "markdown",
   "metadata": {},
   "source": [
    "Autre structure héritant d'AbstractRectangle"
   ]
  },
  {
   "cell_type": "code",
   "execution_count": 8,
   "metadata": {},
   "outputs": [
    {
     "data": {
      "text/plain": [
       "height (generic function with 1 method)"
      ]
     },
     "metadata": {},
     "output_type": "display_data"
    }
   ],
   "source": [
    "struct Square <: AbstractRectangle\n",
    "    length::Float64\n",
    "end\n",
    "width(s::Square) = s.length\n",
    "height(s::Square) = s.length"
   ]
  },
  {
   "cell_type": "markdown",
   "metadata": {},
   "source": [
    "Tests :"
   ]
  },
  {
   "cell_type": "code",
   "execution_count": 14,
   "metadata": {},
   "outputs": [
    {
     "name": "stdout",
     "output_type": "stream",
     "text": [
      "combined_area(c, s) = 11.068583470577035\n",
      "combined_area(s, r) = 19.0\n"
     ]
    },
    {
     "data": {
      "text/plain": [
       "19.0"
      ]
     },
     "metadata": {},
     "output_type": "display_data"
    }
   ],
   "source": [
    "c = Circle(3)\n",
    "s = Square(2)\n",
    "r = Rectangle(3,5)\n",
    "\n",
    "@show combined_area(c,s)\n",
    "@show combined_area(s,r)"
   ]
  },
  {
   "cell_type": "markdown",
   "metadata": {},
   "source": [
    "### Composition et transfert de méthodes : une alternative à l'héritage.\n",
    "\n",
    "La stratégie pour l'héritage de composition (compositiona linheritance) est de créer des structures qui ont le type de l'interface requise en tant que champ, plutôt qu'en tant que super type, et ensuite on peut quand nécessaire, déléguer certaines méthodes en les forwardant automatiquement. Julia rend ça plus simple avec le mot clé eval, car on peut forward les méthodes avec un boucle. C'est typique de Julia d'utiliser eval pour des prétraitement de ce type."
   ]
  },
  {
   "cell_type": "code",
   "execution_count": 15,
   "metadata": {},
   "outputs": [
    {
     "data": {
      "text/plain": [
       "shout (generic function with 1 method)"
      ]
     },
     "metadata": {},
     "output_type": "display_data"
    }
   ],
   "source": [
    "struct HasInterestingField\n",
    "    data::String\n",
    "end\n",
    "\n",
    "double(hif::HasInterestingField) = hif.data^2\n",
    "shout(hif::HasInterestingField) = uppercase(string(hif.data,\"!\"))"
   ]
  },
  {
   "cell_type": "code",
   "execution_count": 17,
   "metadata": {},
   "outputs": [],
   "source": [
    "# Méthode de composition pour récupérer ce qui nous intéresse :\n",
    "struct WantsInterestingField\n",
    "    interesting::HasInterestingField\n",
    "    # Changement du constructeur pour directement prendre un string data en entrée et non un HasInterestingField\n",
    "    WantsInterestingField(data) = new(HasInterestingField(data))\n",
    "end\n",
    "\n",
    "# forward method\n",
    "for method in (:double, :shout)\n",
    "    @eval $method(wif::WantsInterestingField) = $method(wif.interesting)\n",
    "end"
   ]
  },
  {
   "cell_type": "markdown",
   "metadata": {},
   "source": [
    "Pour le forwarding, on utilise un peu de metaprogramming : \n",
    "@eval est une macro, un mécanisme qui va générer du code à la compilation.\n",
    ":double est en fait une expression qui désigne la méthode double lorsqu'elle est évaluée\n",
    "$method permet de prendre la valeur de la variable method (ici ce sera :double ou :shout) (c'est ce qui est appelé de l'interpolation)\n",
    "\n"
   ]
  },
  {
   "cell_type": "markdown",
   "metadata": {},
   "source": [
    "Tests :"
   ]
  },
  {
   "cell_type": "code",
   "execution_count": 18,
   "metadata": {},
   "outputs": [
    {
     "name": "stdout",
     "output_type": "stream",
     "text": [
      "shout(wif) = \"COUCOU!\"\n",
      "double(wif) = \"coucoucoucou\"\n"
     ]
    },
    {
     "data": {
      "text/plain": [
       "\"coucoucoucou\""
      ]
     },
     "metadata": {},
     "output_type": "display_data"
    }
   ],
   "source": [
    "wif = WantsInterestingField(\"coucou\")\n",
    "@show shout(wif)\n",
    "@show double(wif)"
   ]
  },
  {
   "cell_type": "markdown",
   "metadata": {},
   "source": [
    "  ### Generics: Statically typed dynamic typing"
   ]
  },
  {
   "cell_type": "markdown",
   "metadata": {},
   "source": [
    "En Julia, les types génériques peuvent être utilisé par sécurité, mais ils sont aussi la clé pour faire des structures qui sont efficientes et polymorphiques"
   ]
  },
  {
   "cell_type": "code",
   "execution_count": 20,
   "metadata": {},
   "outputs": [
    {
     "data": {
      "text/plain": [
       "GenPoint{Int64}(2, 3)"
      ]
     },
     "metadata": {},
     "output_type": "display_data"
    }
   ],
   "source": [
    "struct GenPoint{T}\n",
    "    x::T\n",
    "    y::T\n",
    "end\n",
    "# Ça force x et y à être du même type T\n",
    "\n",
    "GenPoint(2,3)"
   ]
  },
  {
   "cell_type": "code",
   "execution_count": 21,
   "metadata": {},
   "outputs": [
    {
     "data": {
      "text/plain": [
       "GenPoint2{Int64, Float64}(3, 2.0)"
      ]
     },
     "metadata": {},
     "output_type": "display_data"
    }
   ],
   "source": [
    "# On peut aussi faire avec plusieurs types :\n",
    "struct GenPoint2{X,Y}\n",
    "    x::X\n",
    "    y::Y\n",
    "end\n",
    "GenPoint2(3,2.0)\n"
   ]
  },
  {
   "cell_type": "markdown",
   "metadata": {},
   "source": [
    "On peut tout de même contraindre le type de T :"
   ]
  },
  {
   "cell_type": "code",
   "execution_count": 22,
   "metadata": {},
   "outputs": [
    {
     "name": "stdout",
     "output_type": "stream",
     "text": [
      "Point(1, 4) = Point{Int64}(1, 4)\n",
      "Point(4.0, 2.4) = Point{Float64}(4.0, 2.4)\n"
     ]
    },
    {
     "data": {
      "text/plain": [
       "Point{Float64}(4.0, 2.4)"
      ]
     },
     "metadata": {},
     "output_type": "display_data"
    }
   ],
   "source": [
    "struct Point{T<:Real}\n",
    "    x::T\n",
    "    y::T\n",
    "end\n",
    "\n",
    "@show Point(1,4)\n",
    "@show Point(4.0,2.4)"
   ]
  },
  {
   "cell_type": "markdown",
   "metadata": {},
   "source": [
    "Il est préférable de faire Point{T<:Real} puis avec des attributs de type T que faire une classe non générique avec des attributs de type Real car Real n'est pas un type concret mais abstrait, le compilateur Julia ne peut donc pas faire d'assomption dessus, la sélection de méthode se fera alors à l'exécution plutôt qu'à la compilation.\n",
    "\n",
    "Pour de bonnes performances, utiliser les génériques comme dans l'exemple précédent avec des champs de type T est nécessaire, contrairement aux signatures des méthodes. Normalement, si la stabilité des types est respectée, le compilateur sait le type de n'importe quoi et ne repose pas sur les types de la méthode pour optimiser les performances."
   ]
  },
  {
   "cell_type": "markdown",
   "metadata": {},
   "source": [
    "Exemple d'implémentation d'une linked list en Julia qui utilise les types génériques :"
   ]
  },
  {
   "cell_type": "code",
   "execution_count": 26,
   "metadata": {},
   "outputs": [],
   "source": [
    "struct Nil end #nil = nihil en latin = nothing -> pour signifier la fin de la liste\n",
    "\n",
    "struct List{T}\n",
    "    head::T\n",
    "    tail::Union{List{T},Nil} # tail est soit un autre noeud (List{N}) soit Nil (fin de la liste)\n",
    "    # Union permet d'accepter les 2 types\n",
    "end\n",
    "\n",
    "# création d'une liste depuis un tableau \n",
    "mklist(array::AbstractArray{T}) where T = foldr(List{T},array, init=Nil())\n",
    "# on déclare diretctement le type T dans la signature de la fonction\n",
    "# it turns whatever the element type of the array is into a value in the function body.\n",
    "# foldr permet de traiter la collection array en créant des List{T} successivement en commençant par Nil\n",
    "\n",
    "\n",
    "# implémentation du protocol d'itération https://docs.julialang.org/en/v1/base/collections/#lib-collections-iteration-1\n",
    "Base.iterate(l::List) = iterate(l,l)\n",
    "Base.iterate(::List,l::List) = l.head, l.tail #pas de nom au premier argument car sa valeur n'est pas utilisée\n",
    "Base.iterate(::List,::Nil) = nothing"
   ]
  },
  {
   "cell_type": "markdown",
   "metadata": {},
   "source": [
    "Test :"
   ]
  },
  {
   "cell_type": "code",
   "execution_count": 25,
   "metadata": {},
   "outputs": [
    {
     "name": "stdout",
     "output_type": "stream",
     "text": [
      "l1 = List{Int64}(1, List{Int64}(2, List{Int64}(3, Nil())))\n",
      "l2 = List{Any}(\"a\", List{Any}(2, Nil()))\n",
      "1\n",
      "2\n",
      "3\n"
     ]
    }
   ],
   "source": [
    "l1 = mklist(1:3)\n",
    "l2 = mklist([\"a\",2])\n",
    "\n",
    "@show l1\n",
    "@show l2\n",
    "\n",
    "for val in l1\n",
    "    println(val)\n",
    "end"
   ]
  },
  {
   "cell_type": "markdown",
   "metadata": {},
   "source": [
    "### Le pattern Trait\n",
    "\n",
    "Les traits sont en quelque sorte un contrat avec le compilateur selon lequel un certain type va implémenter les bonnes interfaces, et peut donc être utilisé comme argument pour toute fonction qui requiert cette interface. C'est une alternative à l'héritage classique.\n",
    "\n",
    "Dans sa forme la plus simple, un trait est juste une structure vide et une dispatch qui lance une erreur dans le cas le plus général. Vous vérifiez ensuite l'existence du trait en utilisant le constructeur dans une méthode dispatch."
   ]
  },
  {
   "cell_type": "code",
   "execution_count": 27,
   "metadata": {},
   "outputs": [
    {
     "data": {
      "text/plain": [
       "zlurm (generic function with 2 methods)"
      ]
     },
     "metadata": {},
     "output_type": "display_data"
    }
   ],
   "source": [
    "struct Zlurmable end\n",
    "Zlurmable(::T) where T = error(\"Type $T doesn't implement the Zlurmable trait\")\n",
    "\n",
    "zlurm(x) = zlurm(Zlurmable(x),x)\n",
    "zlurm(::Zlurmable,x) = x+1"
   ]
  },
  {
   "cell_type": "markdown",
   "metadata": {},
   "source": [
    "Pour l'instant, il n'y a pas de types qui implémentent le Zlurmable trait, on ne peut donc pas utiliser la fonction zlurm (zlurm(1) donne une erreur car Int64 n'implément pas ZLurmable par exemple)"
   ]
  },
  {
   "cell_type": "code",
   "execution_count": 28,
   "metadata": {},
   "outputs": [
    {
     "data": {
      "text/plain": [
       "4"
      ]
     },
     "metadata": {},
     "output_type": "display_data"
    }
   ],
   "source": [
    "# What we need to do is add the trait to a type:\n",
    "Zlurmable(::Int64) = Zlurmable()\n",
    "# et maintenant :\n",
    "zlurm(3)\n"
   ]
  }
 ],
 "metadata": {
  "kernelspec": {
   "display_name": "Julia 1.7.1",
   "language": "julia",
   "name": "julia-1.7"
  },
  "language_info": {
   "file_extension": ".jl",
   "mimetype": "application/julia",
   "name": "julia",
   "version": "1.7.1"
  },
  "orig_nbformat": 4
 },
 "nbformat": 4,
 "nbformat_minor": 2
}
